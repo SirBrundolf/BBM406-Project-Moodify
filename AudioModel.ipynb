{
 "cells": [
  {
   "cell_type": "code",
   "execution_count": 2,
   "id": "artificial-legislation",
   "metadata": {},
   "outputs": [],
   "source": [
    "import numpy as np\n",
    "import pandas as pd\n",
    "import matplotlib.pyplot as plt\n",
    "import librosa\n",
    "\n",
    "from CreateDataset import clusters, classes, FRAME_SIZE, HOP_LENGTH, SAMPLE_RATE"
   ]
  },
  {
   "cell_type": "code",
   "execution_count": 3,
   "id": "endless-lotus",
   "metadata": {},
   "outputs": [
    {
     "name": "stdout",
     "output_type": "stream",
     "text": [
      "Read the data from JSON files, created the dataframe\n"
     ]
    }
   ],
   "source": [
    "    cluster1_dataset = pd.read_json(\"Cluster 1.json\")\n",
    "    cluster2_dataset = pd.read_json(\"Cluster 2.json\")\n",
    "    cluster3_dataset = pd.read_json(\"Cluster 3.json\")\n",
    "    cluster4_dataset = pd.read_json(\"Cluster 4.json\")\n",
    "    cluster5_dataset = pd.read_json(\"Cluster 5.json\")\n",
    "\n",
    "    dataset = cluster1_dataset.append(cluster2_dataset)\n",
    "    dataset = dataset.append(cluster3_dataset)\n",
    "    dataset = dataset.append(cluster4_dataset)\n",
    "    dataset = dataset.append(cluster5_dataset)\n",
    "\n",
    "    dataset = dataset.drop('Class', axis=1)\n",
    "\n",
    "    print(\"Read the data from JSON files, created the dataframe\")"
   ]
  },
  {
   "cell_type": "code",
   "execution_count": 5,
   "id": "acceptable-kinase",
   "metadata": {},
   "outputs": [
    {
     "name": "stdout",
     "output_type": "stream",
     "text": [
      "Preprocessed the data\n"
     ]
    }
   ],
   "source": [
    "    # Finding the max. frame length\n",
    "    max_frame_length = 0\n",
    "    for i in dataset[\"Mel Spectrogram\"]:\n",
    "        for j in i:\n",
    "            if len(j) > max_frame_length:\n",
    "                max_frame_length = len(j)\n",
    "\n",
    "    # Preprocessing the dataset, so that the frames of all the data is equal\n",
    "    for i in range(len(dataset[\"Mel Spectrogram\"])):\n",
    "        for j in range(len(dataset[\"Mel Spectrogram\"].iloc[i])):\n",
    "            diff = max_frame_length - len(dataset[\"Mel Spectrogram\"].iloc[i][j])\n",
    "            for x in range(diff):\n",
    "                dataset[\"Mel Spectrogram\"].iloc[i][j].append(0.0)\n",
    "\n",
    "    print(\"Preprocessed the data\")"
   ]
  },
  {
   "cell_type": "code",
   "execution_count": 6,
   "id": "every-vacation",
   "metadata": {},
   "outputs": [],
   "source": [
    "    # To process the \"Cluster\" data, we need to convert its text data to numeric data\n",
    "    from sklearn.preprocessing import LabelEncoder\n",
    "\n",
    "    genresDF = dataset.iloc[:, 0]\n",
    "    encoder = LabelEncoder()\n",
    "    genresEncoded = encoder.fit_transform(genresDF)\n",
    "    dataset['Cluster'] = genresEncoded"
   ]
  },
  {
   "cell_type": "code",
   "execution_count": 7,
   "id": "labeled-variety",
   "metadata": {},
   "outputs": [
    {
     "name": "stdout",
     "output_type": "stream",
     "text": [
      "<class 'list'>\n",
      "903\n",
      "<class 'list'>\n",
      "96\n",
      "<class 'list'>\n",
      "2589\n",
      "<class 'list'>\n",
      "1\n"
     ]
    }
   ],
   "source": [
    "    from sklearn.model_selection import train_test_split\n",
    "\n",
    "    X = dataset.drop('Cluster', axis=1)\n",
    "    y = dataset['Cluster']\n",
    "\n",
    "    # Reshaping the data so that it fits to the CNN\n",
    "    new_X = [X.iloc[i][0] for i in range(len(X))]\n",
    "    new_y = [y.iloc[i].tolist() for i in range(len(y))]\n",
    "\n",
    "    for i in range(len(new_X)):\n",
    "        for j in range(len(new_X[i])):\n",
    "            new_X[i][j] = [[new_X[i][j][k]] for k in range(len(new_X[i][j]))]\n",
    "\n",
    "\n",
    "    print(type(new_X))\n",
    "    print(len(new_X))\n",
    "    print(type(new_X[0]))\n",
    "    print(len(new_X[0]))\n",
    "    print(type(new_X[0][0]))\n",
    "    print(len(new_X[0][0]))\n",
    "    print(type(new_X[0][0][0]))\n",
    "    print(len(new_X[0][0][0]))\n",
    "\n",
    "    # 80% train, %20 test data split\n",
    "    X_train, X_test, y_train, y_test = train_test_split(new_X, new_y, test_size=0.2)\n",
    "    #X_test, X_val, y_test, y_val = train_test_split(X_test, y_test, test_size=0.5)"
   ]
  },
  {
   "cell_type": "code",
   "execution_count": 9,
   "id": "cellular-demographic",
   "metadata": {},
   "outputs": [],
   "source": [
    "    from tensorflow.keras.models import Sequential\n",
    "    from tensorflow.keras.layers import Conv2D, MaxPooling2D, BatchNormalization, Dense, Flatten, Dropout\n",
    "\n",
    "    model = Sequential([\n",
    "        # Convolutional layer\n",
    "        Conv2D(32, (3, 3), input_shape=(len(new_X[0]), len(new_X[0][0]), len(new_X[0][0][0])), activation=\"relu\", padding=\"same\"),\n",
    "        BatchNormalization(),\n",
    "        MaxPooling2D(pool_size=(2, 4), strides=(2, 4), padding=\"same\"),\n",
    "        Conv2D(128, (3, 3), activation=\"relu\", padding=\"same\"),\n",
    "        BatchNormalization(),\n",
    "        MaxPooling2D(pool_size=(2, 4), strides=(2, 4), padding=\"same\"),\n",
    "        Conv2D(128, (3, 3), activation=\"relu\", padding=\"same\"),\n",
    "        BatchNormalization(),\n",
    "        MaxPooling2D(pool_size=(2, 4), strides=(2, 4), padding=\"same\"),\n",
    "        Conv2D(192, (3, 3), activation=\"relu\", padding=\"same\"),\n",
    "        BatchNormalization(),\n",
    "        MaxPooling2D(pool_size=(3, 5), strides=(3, 5), padding=\"same\"),\n",
    "        Conv2D(256, (3, 3), activation=\"relu\", padding=\"same\"),\n",
    "        BatchNormalization(),\n",
    "        MaxPooling2D(pool_size=(4, 4), strides=(4, 4), padding=\"same\"),\n",
    "        Dropout(0.5),\n",
    "\n",
    "        # Fully connected layer\n",
    "        Flatten(),\n",
    "        Dense(64, activation=\"relu\"),\n",
    "\n",
    "        # Output layer\n",
    "        Dense(len(clusters), activation=\"softmax\")\n",
    "    ])"
   ]
  },
  {
   "cell_type": "code",
   "execution_count": null,
   "id": "accepted-brazil",
   "metadata": {},
   "outputs": [
    {
     "name": "stdout",
     "output_type": "stream",
     "text": [
      "Epoch 1/100\n",
      "6/6 [==============================] - ETA: 0s - loss: 3.1926 - accuracy: 0.2161 "
     ]
    }
   ],
   "source": [
    "    # Optimizers\n",
    "    from tensorflow.keras.optimizers import Adam\n",
    "    from tensorflow.keras.optimizers import RMSprop\n",
    "\n",
    "    opt = Adam(learning_rate=0.0001, beta_1=0.9, beta_2=0.999, epsilon=1e-07, amsgrad=False,\n",
    "               name='Adam')  # Old optimizer\n",
    "    optNew = RMSprop(learning_rate=0.0001)\n",
    "\n",
    "    model.compile(optimizer=optNew,\n",
    "                  loss='sparse_categorical_crossentropy',\n",
    "                  metrics=['accuracy'])\n",
    "\n",
    "    history = model.fit(x=X_train,\n",
    "                        y=y_train,\n",
    "                        epochs=100,\n",
    "                        batch_size=128,\n",
    "                        validation_data=(X_test, y_test),\n",
    "                        #callbacks=[earlyStop]\n",
    "                        )"
   ]
  },
  {
   "cell_type": "code",
   "execution_count": null,
   "id": "jewish-sequence",
   "metadata": {},
   "outputs": [],
   "source": [
    "\n",
    "    from sklearn.metrics import classification_report, confusion_matrix\n",
    "\n",
    "    print(model.evaluate(X_test, y_test))\n",
    "\n",
    "    predictions = np.argmax(model.predict(X_test), axis=-1)\n",
    "\n",
    "    print(classification_report(y_test, predictions))\n",
    "    print(confusion_matrix(y_test, predictions))\n",
    "\n",
    "    model.summary()\n",
    "\n",
    "    finishData = pd.DataFrame(history.history)\n",
    "    fig, axs = plt.subplots(2)\n",
    "    axs[0].plot(finishData[\"accuracy\"], label=\"Train Accuracy\")\n",
    "    axs[0].plot(finishData[\"val_accuracy\"], label=\"Validation Accuracy\")\n",
    "    axs[0].legend(loc=\"lower right\")\n",
    "    axs[0].set_yticks(np.arange(0, 1, 0.1))\n",
    "    axs[1].plot(finishData[\"loss\"], label=\"Train Error\")\n",
    "    axs[1].plot(finishData[\"val_loss\"], label=\"Validation Error\")\n",
    "    axs[1].legend(loc=\"upper right\")\n",
    "    axs[1].set_yticks(np.arange(2, 0, -0.2))\n",
    "    plt.show()\n"
   ]
  },
  {
   "cell_type": "code",
   "execution_count": null,
   "id": "diverse-relief",
   "metadata": {},
   "outputs": [],
   "source": []
  }
 ],
 "metadata": {
  "kernelspec": {
   "display_name": "Python 3",
   "language": "python",
   "name": "python3"
  },
  "language_info": {
   "codemirror_mode": {
    "name": "ipython",
    "version": 3
   },
   "file_extension": ".py",
   "mimetype": "text/x-python",
   "name": "python",
   "nbconvert_exporter": "python",
   "pygments_lexer": "ipython3",
   "version": "3.8.5"
  }
 },
 "nbformat": 4,
 "nbformat_minor": 5
}
